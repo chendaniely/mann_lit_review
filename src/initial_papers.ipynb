{
 "cells": [
  {
   "cell_type": "code",
   "execution_count": 1,
   "metadata": {
    "collapsed": true
   },
   "outputs": [],
   "source": [
    "import pandas as pd\n",
    "\n",
    "import bibtexparser as btp"
   ]
  },
  {
   "cell_type": "code",
   "execution_count": 2,
   "metadata": {
    "collapsed": false
   },
   "outputs": [],
   "source": [
    "def bib_to_df(bibtex_file):\n",
    "    with open(bibtex_file) as f:\n",
    "        dat = f.read()\n",
    "    db = btp.loads(dat)\n",
    "    df = pd.DataFrame(db.entries_dict)\n",
    "    df = df.T.reset_index(drop=True)\n",
    "    return(df)"
   ]
  },
  {
   "cell_type": "code",
   "execution_count": 3,
   "metadata": {
    "collapsed": true
   },
   "outputs": [],
   "source": [
    "cited = bib_to_df('../bibtex/2017-02-01-times_cited_descending.bib')\n",
    "newest = bib_to_df('../bibtex/2017-02-01-publication_date_newest.bib')\n",
    "oldest = bib_to_df('../bibtex/2017-02-01-publication_date_oldest.bib')\n",
    "c180 = bib_to_df('../bibtex/2017-02-01-useage_count_180.bib')\n",
    "c2013 = bib_to_df('../bibtex/2017-02-01-useage_count_2013.bib')"
   ]
  },
  {
   "cell_type": "code",
   "execution_count": 4,
   "metadata": {
    "collapsed": false
   },
   "outputs": [
    {
     "data": {
      "text/plain": [
       "Index(['ENTRYTYPE', 'ID', 'abstract', 'address', 'affiliation',\n",
       "       'article-number', 'author', 'author-email', 'booktitle',\n",
       "       'cited-references', 'doc-delivery-number', 'doi', 'eissn',\n",
       "       'funding-acknowledgement', 'funding-text', 'isbn', 'issn', 'journal',\n",
       "       'journal-iso', 'keyword', 'keywords-plus', 'language', 'month',\n",
       "       'number', 'number-of-cited-references', 'orcid-numbers', 'pages',\n",
       "       'publisher', 'research-areas', 'researcherid-numbers', 'times-cited',\n",
       "       'title', 'type', 'unique-id', 'usage-count-(last-180-days)',\n",
       "       'usage-count-since-2013', 'volume', 'web-of-science-categories',\n",
       "       'year'],\n",
       "      dtype='object')"
      ]
     },
     "execution_count": 4,
     "metadata": {},
     "output_type": "execute_result"
    }
   ],
   "source": [
    "cited.columns"
   ]
  },
  {
   "cell_type": "code",
   "execution_count": 5,
   "metadata": {
    "collapsed": false
   },
   "outputs": [],
   "source": [
    "of_interest = pd.merge(left=cited, right=pd.DataFrame(c2013['unique-id']), on='unique-id', how='inner')"
   ]
  },
  {
   "cell_type": "code",
   "execution_count": 6,
   "metadata": {
    "collapsed": false,
    "scrolled": false
   },
   "outputs": [
    {
     "data": {
      "text/html": [
       "<div>\n",
       "<table border=\"1\" class=\"dataframe\">\n",
       "  <thead>\n",
       "    <tr style=\"text-align: right;\">\n",
       "      <th></th>\n",
       "      <th>title</th>\n",
       "      <th>author</th>\n",
       "    </tr>\n",
       "  </thead>\n",
       "  <tbody>\n",
       "    <tr>\n",
       "      <th>0</th>\n",
       "      <td>Email networks and the spread of computer viruses</td>\n",
       "      <td>Newman, MEJ and Forrest, S and Balthrop, J</td>\n",
       "    </tr>\n",
       "    <tr>\n",
       "      <th>1</th>\n",
       "      <td>Cascade-based attacks on complex networks</td>\n",
       "      <td>Motter, AE and Lai, YC</td>\n",
       "    </tr>\n",
       "    <tr>\n",
       "      <th>2</th>\n",
       "      <td>The structure and function of complex networks</td>\n",
       "      <td>Newman, MEJ</td>\n",
       "    </tr>\n",
       "    <tr>\n",
       "      <th>3</th>\n",
       "      <td>The ``new{''} science of networks</td>\n",
       "      <td>Watts, DJ</td>\n",
       "    </tr>\n",
       "    <tr>\n",
       "      <th>4</th>\n",
       "      <td>Experimental study of inequality and unpredict...</td>\n",
       "      <td>Salganik, MJ and Dodds, PS and Watts, DJ</td>\n",
       "    </tr>\n",
       "    <tr>\n",
       "      <th>5</th>\n",
       "      <td>Complex networks: Structure and dynamics</td>\n",
       "      <td>Boccaletti, S. and Latora, V. and Moreno, Y. a...</td>\n",
       "    </tr>\n",
       "    <tr>\n",
       "      <th>6</th>\n",
       "      <td>Influentials, networks, and public opinion for...</td>\n",
       "      <td>Watts, Duncan J. and Dodds, Peter Sheridan</td>\n",
       "    </tr>\n",
       "    <tr>\n",
       "      <th>7</th>\n",
       "      <td>Critical phenomena in complex networks</td>\n",
       "      <td>Dorogovtsev, S. N. and Goltsev, A. V. and Mend...</td>\n",
       "    </tr>\n",
       "    <tr>\n",
       "      <th>8</th>\n",
       "      <td>Statistical physics of social dynamics</td>\n",
       "      <td>Castellano, Claudio and Fortunato, Santo and L...</td>\n",
       "    </tr>\n",
       "    <tr>\n",
       "      <th>9</th>\n",
       "      <td>Networks formed from interdependent networks</td>\n",
       "      <td>Gao, Jianxi and Buldyrev, Sergey V. and Stanle...</td>\n",
       "    </tr>\n",
       "    <tr>\n",
       "      <th>10</th>\n",
       "      <td>Globally networked risks and how to respond</td>\n",
       "      <td>Helbing, Dirk</td>\n",
       "    </tr>\n",
       "    <tr>\n",
       "      <th>11</th>\n",
       "      <td>The structure and dynamics of multilayer networks</td>\n",
       "      <td>Boccaletti, S. and Bianconi, G. and Criado, R....</td>\n",
       "    </tr>\n",
       "  </tbody>\n",
       "</table>\n",
       "</div>"
      ],
      "text/plain": [
       "                                                title  \\\n",
       "0   Email networks and the spread of computer viruses   \n",
       "1           Cascade-based attacks on complex networks   \n",
       "2      The structure and function of complex networks   \n",
       "3                   The ``new{''} science of networks   \n",
       "4   Experimental study of inequality and unpredict...   \n",
       "5            Complex networks: Structure and dynamics   \n",
       "6   Influentials, networks, and public opinion for...   \n",
       "7              Critical phenomena in complex networks   \n",
       "8              Statistical physics of social dynamics   \n",
       "9        Networks formed from interdependent networks   \n",
       "10        Globally networked risks and how to respond   \n",
       "11  The structure and dynamics of multilayer networks   \n",
       "\n",
       "                                               author  \n",
       "0          Newman, MEJ and Forrest, S and Balthrop, J  \n",
       "1                              Motter, AE and Lai, YC  \n",
       "2                                         Newman, MEJ  \n",
       "3                                           Watts, DJ  \n",
       "4            Salganik, MJ and Dodds, PS and Watts, DJ  \n",
       "5   Boccaletti, S. and Latora, V. and Moreno, Y. a...  \n",
       "6          Watts, Duncan J. and Dodds, Peter Sheridan  \n",
       "7   Dorogovtsev, S. N. and Goltsev, A. V. and Mend...  \n",
       "8   Castellano, Claudio and Fortunato, Santo and L...  \n",
       "9   Gao, Jianxi and Buldyrev, Sergey V. and Stanle...  \n",
       "10                                      Helbing, Dirk  \n",
       "11  Boccaletti, S. and Bianconi, G. and Criado, R....  "
      ]
     },
     "execution_count": 6,
     "metadata": {},
     "output_type": "execute_result"
    }
   ],
   "source": [
    "of_interest[['title', 'author']]"
   ]
  },
  {
   "cell_type": "code",
   "execution_count": null,
   "metadata": {
    "collapsed": true
   },
   "outputs": [],
   "source": []
  }
 ],
 "metadata": {
  "kernelspec": {
   "display_name": "Python 3",
   "language": "python",
   "name": "python3"
  },
  "language_info": {
   "codemirror_mode": {
    "name": "ipython",
    "version": 3
   },
   "file_extension": ".py",
   "mimetype": "text/x-python",
   "name": "python",
   "nbconvert_exporter": "python",
   "pygments_lexer": "ipython3",
   "version": "3.5.2"
  }
 },
 "nbformat": 4,
 "nbformat_minor": 2
}
